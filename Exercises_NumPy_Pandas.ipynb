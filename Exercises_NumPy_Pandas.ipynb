{
 "cells": [
  {
   "cell_type": "markdown",
   "id": "22251e58-78c4-44bf-b39e-a3e7619120ee",
   "metadata": {},
   "source": [
    "# Python for Spatial Analysis\n",
    "## Second part of the module of GG3209 Spatial Analysis with GIS.\n",
    "### Notebook to practice NumPy and Pandas - Exercises\n",
    "\n",
    "---\n",
    "Dr Fernando Benitez -  University of St Andrews - School of Geography and Sustainable Development - First Iteration 2023 v.1.0 "
   ]
  },
  {
   "cell_type": "markdown",
   "id": "eaf0b951",
   "metadata": {},
   "source": [
    "# Practicing NumPy"
   ]
  },
  {
   "cell_type": "markdown",
   "id": "36aaf97a",
   "metadata": {},
   "source": [
    "## 2.0 \n",
    "Import numpy under the alias `np`."
   ]
  },
  {
   "cell_type": "code",
   "execution_count": 2,
   "id": "51aa53cd",
   "metadata": {},
   "outputs": [],
   "source": [
    "# The code goes here\n",
    "import numpy as np"
   ]
  },
  {
   "cell_type": "markdown",
   "id": "10df0fb9",
   "metadata": {},
   "source": [
    "## 2.1 \n",
    "\n",
    "Create the following arrays:\n",
    "\n",
    "* Create an array of 10 ones.\n",
    "\n",
    "* Create an array of the integers 1 to 20.\n",
    "\n",
    "* Create a 5 x 5 matrix of ones with a dtype int."
   ]
  },
  {
   "cell_type": "code",
   "execution_count": 107,
   "id": "5a1b83d1",
   "metadata": {},
   "outputs": [
    {
     "name": "stdout",
     "output_type": "stream",
     "text": [
      "<class 'list'>\n",
      "<class 'numpy.ndarray'>\n",
      "[1 1 1 1 1 1 1 1 1 1]\n",
      "[ 1  2  3  4  5  6  7  8  9 10 11 12 13 14 15 16 17 18 19 20]\n",
      "[[1 1 1 1 1]\n",
      " [1 1 1 1 1]\n",
      " [1 1 1 1 1]\n",
      " [1 1 1 1 1]\n",
      " [1 1 1 1 1]]\n",
      "[[1. 1. 1. 1. 1.]\n",
      " [1. 1. 1. 1. 1.]\n",
      " [1. 1. 1. 1. 1.]\n",
      " [1. 1. 1. 1. 1.]\n",
      " [1. 1. 1. 1. 1.]]\n"
     ]
    }
   ],
   "source": [
    "#Code comes here\n",
    "lst1 = [1, 1, 1, 1, 1, 1, 1, 1, 1, 1] #create list of 10 ones\n",
    "arr1 = np.array(lst1) #list into array \n",
    "print(type(lst1))\n",
    "print(type(arr1))\n",
    "print(arr1)\n",
    "\n",
    "#arry of integers 1 to 20\n",
    "arr2 = np.arange(1, 21, 1, dtype=\"int\") #used range with spacing of 1\n",
    "print(arr2)\n",
    "\n",
    "#5x5 matrix of ones with dtype int \n",
    "lst3= [[1,1,1,1,1], [1,1,1,1,1,], [1,1,1,1,1,], [1,1,1,1,1], [1,1,1,1,1]] #list of 5x5 ones\n",
    "lst3 = np.dtype(int)\n",
    "print(arr3)\n",
    "\n",
    "arr3a = np.ones((5,5))\n",
    "print(arr3a)"
   ]
  },
  {
   "cell_type": "markdown",
   "id": "f4d5f95c",
   "metadata": {},
   "source": [
    "## 2.2 \n",
    "Use numpy to:\n",
    "1. Create an 3D matrix of 3 x 3 x 3 full of random numbers drawn from a standard normal distribution (hint: `np.random.randn()`)\n",
    "2. Reshape the above array into shape (27,)"
   ]
  },
  {
   "cell_type": "code",
   "execution_count": 14,
   "id": "ac3df66e",
   "metadata": {},
   "outputs": [
    {
     "name": "stdout",
     "output_type": "stream",
     "text": [
      "[[[0.38752965 0.27494696 0.61504638]\n",
      "  [0.78951017 0.59952171 0.48170547]\n",
      "  [0.15054277 0.06333663 0.36119389]]\n",
      "\n",
      " [[0.36821001 0.50052422 0.08389488]\n",
      "  [0.20187743 0.19193109 0.13976857]\n",
      "  [0.49632859 0.11941418 0.89859474]]\n",
      "\n",
      " [[0.53958019 0.65812146 0.34352121]\n",
      "  [0.66992866 0.29478632 0.01315899]\n",
      "  [0.72043354 0.76427475 0.00301298]]]\n",
      "[0.38752965 0.27494696 0.61504638 0.78951017 0.59952171 0.48170547\n",
      " 0.15054277 0.06333663 0.36119389 0.36821001 0.50052422 0.08389488\n",
      " 0.20187743 0.19193109 0.13976857 0.49632859 0.11941418 0.89859474\n",
      " 0.53958019 0.65812146 0.34352121 0.66992866 0.29478632 0.01315899\n",
      " 0.72043354 0.76427475 0.00301298]\n"
     ]
    }
   ],
   "source": [
    "arr4 = np.random.rand(3,3,3)\n",
    "print(arr4)\n",
    "arr4b = arr4.reshape(27)\n",
    "print(arr4b)\n",
    "\n",
    "arr4 = np.ones((5,5,5,5,5))"
   ]
  },
  {
   "cell_type": "markdown",
   "id": "5bbbbc97",
   "metadata": {},
   "source": [
    "# 2.3 \n",
    "\n",
    "Create an array of 20 linearly spaced numbers between 1 and 10."
   ]
  },
  {
   "cell_type": "code",
   "execution_count": 15,
   "id": "3304c495",
   "metadata": {},
   "outputs": [
    {
     "name": "stdout",
     "output_type": "stream",
     "text": [
      "[ 1  1  1  2  2  3  3  4  4  5  5  6  6  7  7  8  8  9  9 10]\n"
     ]
    }
   ],
   "source": [
    "# Code comes here\n",
    "arr5= np.linspace(1,10,20, dtype=\"int\") #linspace and input range of 1-10 and the number of space(20)\n",
    "print(arr5)\n"
   ]
  },
  {
   "cell_type": "markdown",
   "id": "fee4622b",
   "metadata": {},
   "source": [
    "## 2.4\n",
    "\n",
    "Run the following code to create an array of shape 4 x 4 and then use indexing to produce the outputs shown below."
   ]
  },
  {
   "cell_type": "code",
   "execution_count": 22,
   "id": "ce54aa24",
   "metadata": {},
   "outputs": [
    {
     "name": "stdout",
     "output_type": "stream",
     "text": [
      "[[ 1  2  3  4  5]\n",
      " [ 6  7  8  9 10]\n",
      " [11 12 13 14 15]\n",
      " [16 17 18 19 20]\n",
      " [21 22 23 24 25]]\n"
     ]
    }
   ],
   "source": [
    "import numpy as np\n",
    "a = np.arange(1, 26).reshape(5, -1)\n",
    "print(a)"
   ]
  },
  {
   "cell_type": "code",
   "execution_count": 17,
   "id": "9fb30ef8",
   "metadata": {},
   "outputs": [
    {
     "data": {
      "text/plain": [
       "20"
      ]
     },
     "execution_count": 17,
     "metadata": {},
     "output_type": "execute_result"
    }
   ],
   "source": [
    "20"
   ]
  },
  {
   "cell_type": "code",
   "execution_count": 37,
   "id": "e752079a",
   "metadata": {},
   "outputs": [
    {
     "name": "stdout",
     "output_type": "stream",
     "text": [
      "20\n"
     ]
    }
   ],
   "source": [
    "#arr1=a\n",
    "a=np.arange(1,26).reshape(5,-1)\n",
    "print(a[3][4])\n"
   ]
  },
  {
   "cell_type": "markdown",
   "id": "24c2d6c3",
   "metadata": {},
   "source": [
    "```python\n",
    "array([[ 9, 10],\n",
    "       [14, 15],\n",
    "       [19, 20],\n",
    "       [24, 25]])\n",
    "```"
   ]
  },
  {
   "cell_type": "code",
   "execution_count": 44,
   "id": "d86f1c2f",
   "metadata": {},
   "outputs": [
    {
     "name": "stdout",
     "output_type": "stream",
     "text": [
      "[4 5]\n",
      "[ 9 10]\n",
      "[14 15]\n",
      "[19 20]\n",
      "[24 25]\n"
     ]
    }
   ],
   "source": [
    "# Code come here\n",
    "a = np.arange(1,26).reshape(5,-1)\n",
    "print(a[0][3:5])\n",
    "print(a[1][3:5])\n",
    "print(a[2][3:5])\n",
    "print(a[3][3:5])\n",
    "print(a[4][3:5])"
   ]
  },
  {
   "cell_type": "markdown",
   "id": "984bb786",
   "metadata": {},
   "source": [
    "```python\n",
    "array([ 6,  7,  8,  9, 10])\n",
    "```"
   ]
  },
  {
   "cell_type": "code",
   "execution_count": 30,
   "id": "943ec85c",
   "metadata": {},
   "outputs": [
    {
     "name": "stdout",
     "output_type": "stream",
     "text": [
      "[ 6  7  8  9 10]\n"
     ]
    }
   ],
   "source": [
    "# Code comes here\n",
    "a = np.arange(1,26).reshape(5,-1)\n",
    "print(a[1])"
   ]
  },
  {
   "cell_type": "markdown",
   "id": "a8e576e0",
   "metadata": {},
   "source": [
    "## 2.5 \n",
    "\n",
    "Calculate the sum of all the numbers in `a`."
   ]
  },
  {
   "cell_type": "code",
   "execution_count": 45,
   "id": "bd34b207",
   "metadata": {},
   "outputs": [
    {
     "name": "stdout",
     "output_type": "stream",
     "text": [
      "325\n"
     ]
    }
   ],
   "source": [
    "# Code comes here\n",
    "a = np.arange(1,26).reshape(5,-1)\n",
    "total = np.sum(a)\n",
    "print(total)"
   ]
  },
  {
   "cell_type": "markdown",
   "id": "50c3950b",
   "metadata": {},
   "source": [
    "## 2.6 \n",
    "\n",
    "Calculate the sum of each row in `a`."
   ]
  },
  {
   "cell_type": "code",
   "execution_count": 50,
   "id": "de620d7d",
   "metadata": {},
   "outputs": [
    {
     "name": "stdout",
     "output_type": "stream",
     "text": [
      "[ 15  40  65  90 115]\n"
     ]
    }
   ],
   "source": [
    "# Code comes here\n",
    "a = np.arange(1,26).reshape(5,-1)\n",
    "total = np.sum(a,axis=1)\n",
    "print(total)"
   ]
  },
  {
   "cell_type": "code",
   "execution_count": 49,
   "id": "16d4465b-761a-4c1d-a66b-ae2a943e1d3b",
   "metadata": {},
   "outputs": [
    {
     "name": "stdout",
     "output_type": "stream",
     "text": [
      "15\n",
      "40\n"
     ]
    }
   ],
   "source": [
    "# longer version of calcuating sum of rows - above is more efficent \n",
    "a = np.arange(1,26).reshape(5,-1)\n",
    "a1 = np.arange(1,6)\n",
    "print(sum(a1))\n",
    "a2 = np.arange(6,11)\n",
    "print(sum(a2))\n",
    "\n",
    "\n"
   ]
  },
  {
   "cell_type": "markdown",
   "id": "ea9b2c11",
   "metadata": {},
   "source": [
    "## 2.7 \n",
    "\n",
    "Extract all values of `a` greater than the mean of `a` (hint: use a boolean mask)."
   ]
  },
  {
   "cell_type": "code",
   "execution_count": 65,
   "id": "aef9b210",
   "metadata": {},
   "outputs": [
    {
     "name": "stdout",
     "output_type": "stream",
     "text": [
      "13.0\n"
     ]
    }
   ],
   "source": [
    "# Code comes here\n",
    "a = np.arange(1,26).reshape(5,-1)\n",
    "mean = np.mean(a)\n",
    "print(mean)"
   ]
  },
  {
   "cell_type": "markdown",
   "id": "9c31a0e1",
   "metadata": {},
   "source": [
    "# Practicing Pandas"
   ]
  },
  {
   "cell_type": "markdown",
   "id": "61c04b0c",
   "metadata": {},
   "source": [
    "## 2.8\n",
    "\n",
    "In this set of practice exercises we'll be investigating the carbon footprint of different foods. \n",
    "\n",
    "We'll be leveraging a dataset compiled by [Kasia Kulma](https://r-tastic.co.uk/post/from-messy-to-tidy/) and contributed to [R's Tidy Tuesday project](https://github.com/rfordatascience/tidytuesday).\n",
    "\n",
    "Start by importing pandas with the alias `pd`."
   ]
  },
  {
   "cell_type": "code",
   "execution_count": 4,
   "id": "8b9ede0d",
   "metadata": {},
   "outputs": [],
   "source": [
    "# Codes comes here\n",
    "import pandas as pd"
   ]
  },
  {
   "cell_type": "markdown",
   "id": "3d39a2d7",
   "metadata": {},
   "source": [
    "## 2.9 \n",
    "\n",
    "The dataset we'll be working with has the following columns:\n",
    "\n",
    "|column      |description |\n",
    "|:-------------|:-----------|\n",
    "|country       | Country Name |\n",
    "|food_category | Food Category |\n",
    "|consumption   | Consumption (kg/person/year) |\n",
    "|co2_emmission | Co2 Emission (Kg CO2/person/year) |\n",
    "\n",
    "\n",
    "Import the dataset as a dataframe named `df` from this url: <https://raw.githubusercontent.com/rfordatascience/tidytuesday/master/data/2020/2020-02-18/food_consumption.csv>"
   ]
  },
  {
   "cell_type": "code",
   "execution_count": 5,
   "id": "557b4fd8-86b5-4b2e-b25d-65c9b418153b",
   "metadata": {},
   "outputs": [
    {
     "name": "stdout",
     "output_type": "stream",
     "text": [
      "         country             food_category  consumption  co2_emmission\n",
      "0      Argentina                      Pork        10.51          37.20\n",
      "1      Argentina                   Poultry        38.66          41.53\n",
      "2      Argentina                      Beef        55.48        1712.00\n",
      "3      Argentina               Lamb & Goat         1.56          54.63\n",
      "4      Argentina                      Fish         4.36           6.96\n",
      "...          ...                       ...          ...            ...\n",
      "1425  Bangladesh        Milk - inc. cheese        21.91          31.21\n",
      "1426  Bangladesh  Wheat and Wheat Products        17.47           3.33\n",
      "1427  Bangladesh                      Rice       171.73         219.76\n",
      "1428  Bangladesh                  Soybeans         0.61           0.27\n",
      "1429  Bangladesh   Nuts inc. Peanut Butter         0.72           1.27\n",
      "\n",
      "[1430 rows x 4 columns]\n"
     ]
    }
   ],
   "source": [
    "df = pd.read_csv('https://raw.githubusercontent.com/rfordatascience/tidytuesday/master/data/2020/2020-02-18/food_consumption.csv')\n",
    "print(df)\n"
   ]
  },
  {
   "cell_type": "raw",
   "id": "10bed97d-8446-4296-94ad-5c3a5da04986",
   "metadata": {},
   "source": []
  },
  {
   "cell_type": "markdown",
   "id": "f903c8a1",
   "metadata": {},
   "source": [
    "## 2.10 \n",
    "\n",
    "How many rows and columns are there in the dataframe?"
   ]
  },
  {
   "cell_type": "code",
   "execution_count": 91,
   "id": "39cd4f89",
   "metadata": {},
   "outputs": [
    {
     "name": "stdout",
     "output_type": "stream",
     "text": [
      "4\n",
      "1430\n"
     ]
    }
   ],
   "source": [
    "#Code comes here\n",
    "Columns = len(df.columns)\n",
    "print(Columns)\n",
    "Rows = len(df)\n",
    "print(Rows)"
   ]
  },
  {
   "cell_type": "markdown",
   "id": "8f0b87b0",
   "metadata": {},
   "source": [
    "## 2.11\n",
    "\n",
    "What is the mean `co2_emission` of the whole dataset?"
   ]
  },
  {
   "cell_type": "code",
   "execution_count": 86,
   "id": "8a8b3edc",
   "metadata": {},
   "outputs": [
    {
     "name": "stdout",
     "output_type": "stream",
     "text": [
      "74.383993006993\n"
     ]
    }
   ],
   "source": [
    "# Code comes here\n",
    "meanCo2 = df[\"co2_emmission\"].mean()\n",
    "print(meanCo2)\n",
    "\n"
   ]
  },
  {
   "cell_type": "markdown",
   "id": "1acb3cc5",
   "metadata": {},
   "source": [
    "## 2.12\n",
    "\n",
    "What is the maximum `co2_emmission` in the dataset and which food type and country does it belong to?"
   ]
  },
  {
   "cell_type": "code",
   "execution_count": 96,
   "id": "04f58ddd",
   "metadata": {},
   "outputs": [
    {
     "name": "stdout",
     "output_type": "stream",
     "text": [
      "<bound method NDFrame._add_numeric_operations.<locals>.max of 0         37.20\n",
      "1         41.53\n",
      "2       1712.00\n",
      "3         54.63\n",
      "4          6.96\n",
      "         ...   \n",
      "1425      31.21\n",
      "1426       3.33\n",
      "1427     219.76\n",
      "1428       0.27\n",
      "1429       1.27\n",
      "Name: co2_emmission, Length: 1430, dtype: float64>\n",
      "country          Argentina\n",
      "food_category         Beef\n",
      "consumption          55.48\n",
      "co2_emmission       1712.0\n",
      "Name: 2, dtype: object\n"
     ]
    }
   ],
   "source": [
    "# Code comes here\n",
    "maxCo2 = df[\"co2_emmission\"].max #without food type and country\n",
    "print(maxCo2) \n",
    "\n",
    "df2 = df.loc[df[\"co2_emmission\"].idxmax()] #used loc to access rows and idmax to return the index\n",
    "print(df2)"
   ]
  },
  {
   "cell_type": "markdown",
   "id": "68ba75e4",
   "metadata": {},
   "source": [
    "## 2.13\n",
    "\n",
    "How many countries produce more than 1000 Kg CO2/person/year for at least one food type?"
   ]
  },
  {
   "cell_type": "code",
   "execution_count": 12,
   "id": "0dac7b68",
   "metadata": {},
   "outputs": [
    {
     "name": "stdout",
     "output_type": "stream",
     "text": [
      "5\n"
     ]
    }
   ],
   "source": [
    "#code comes here\n",
    "\n",
    "\n",
    "Co2df = df.loc[df[\"co2_emmission\"] > 1000] #loc for rows. countires > 1000kg emmission\n",
    "print(len(Co2df))\n",
    "\n"
   ]
  },
  {
   "cell_type": "markdown",
   "id": "507fe1cd",
   "metadata": {},
   "source": [
    "## 2.14\n",
    "\n",
    "Which country consumes the least amount of beef per person per year?\n"
   ]
  },
  {
   "cell_type": "code",
   "execution_count": 31,
   "id": "c58e6ac7-fb62-411a-a64e-83550f0d4751",
   "metadata": {},
   "outputs": [
    {
     "name": "stdout",
     "output_type": "stream",
     "text": [
      "1410    Liberia\n",
      "Name: country, dtype: object\n"
     ]
    }
   ],
   "source": [
    "# Code comes here\n",
    "beefdf = df.loc[df[\"food_category\"] == \"Beef\"] #created a dataframe for beef using loc\n",
    "minbeef=beefdf.loc[beefdf[\"consumption\"]==beefdf.consumption.min()] #minimum value of beefdf\n",
    "print(minbeef.country)\n",
    "   "
   ]
  },
  {
   "cell_type": "markdown",
   "id": "e40cbc79",
   "metadata": {},
   "source": [
    "## 2.15\n",
    "\n",
    "What is the total emissions of all the meat products (Pork, Poultry, Fish, Lamb & Goat, Beef) in the dataset combined?"
   ]
  },
  {
   "cell_type": "code",
   "execution_count": 6,
   "id": "932f7976",
   "metadata": {},
   "outputs": [
    {
     "name": "stdout",
     "output_type": "stream",
     "text": [
      "74441.13\n"
     ]
    }
   ],
   "source": [
    "# code comes here\n",
    "meatdf = df.loc[df[\"food_category\"].isin([\"Pork\", \"Poultry\", \"Fish\", \"Lamb & Goat\", \"Beef\"])] #loc for rows in food category. Is in \"all the meat products\"\n",
    "print(meatdf.co2_emmission.sum())#sum for the total"
   ]
  },
  {
   "cell_type": "markdown",
   "id": "2e01f760",
   "metadata": {},
   "source": [
    "# 2.16 \n",
    "\n",
    "What is the total emissions of all other (non-meat) products in the dataset combined?"
   ]
  },
  {
   "cell_type": "code",
   "execution_count": 8,
   "id": "1ef474fc-5743-4b4a-9779-e3733cdbce13",
   "metadata": {},
   "outputs": [
    {
     "name": "stdout",
     "output_type": "stream",
     "text": [
      "31927.98\n"
     ]
    }
   ],
   "source": [
    "# code comes here\n",
    "nonmeatdf = df.loc[~df[\"food_category\"].isin([\"Pork\", \"Poultry\", \"Fish\", \"Lamb & Goat\", \"Beef\"])] # ~ to cancel out isin\n",
    "print(nonmeatdf.co2_emmission.sum())"
   ]
  },
  {
   "cell_type": "markdown",
   "id": "24d092f5",
   "metadata": {},
   "source": [
    "## Well done!\n",
    "\n",
    "That's all from this week, if you have any questions, do not forget to ask the TAs for assistance."
   ]
  }
 ],
 "metadata": {
  "kernelspec": {
   "display_name": "Python 3 (ipykernel)",
   "language": "python",
   "name": "python3"
  },
  "language_info": {
   "codemirror_mode": {
    "name": "ipython",
    "version": 3
   },
   "file_extension": ".py",
   "mimetype": "text/x-python",
   "name": "python",
   "nbconvert_exporter": "python",
   "pygments_lexer": "ipython3",
   "version": "3.10.9"
  },
  "vscode": {
   "interpreter": {
    "hash": "a6ff75c9eea1cc423693f453c5146b58e101d0acaa5aa6cb29950423ef44ea78"
   }
  }
 },
 "nbformat": 4,
 "nbformat_minor": 5
}
