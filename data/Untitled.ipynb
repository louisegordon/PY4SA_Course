{
 "cells": [
  {
   "cell_type": "code",
   "execution_count": 1,
   "id": "e17c7b92-ab58-4aae-9724-762b2f45156f",
   "metadata": {},
   "outputs": [
    {
     "data": {
      "text/plain": [
       "15"
      ]
     },
     "execution_count": 1,
     "metadata": {},
     "output_type": "execute_result"
    }
   ],
   "source": [
    "10+5"
   ]
  },
  {
   "cell_type": "code",
   "execution_count": 3,
   "id": "12623735-14a9-4d1a-81e3-12c0ea267db2",
   "metadata": {},
   "outputs": [
    {
     "data": {
      "text/plain": [
       "1"
      ]
     },
     "execution_count": 3,
     "metadata": {},
     "output_type": "execute_result"
    }
   ],
   "source": [
    "2-1"
   ]
  },
  {
   "cell_type": "markdown",
   "id": "c893ac52-986e-4973-8b5e-5e2fa3ddaabb",
   "metadata": {},
   "source": [
    "# Heading"
   ]
  },
  {
   "cell_type": "markdown",
   "id": "109f8705-6255-4a3c-88e0-019f92b98b42",
   "metadata": {},
   "source": [
    "## Heading"
   ]
  },
  {
   "cell_type": "markdown",
   "id": "bbce5998-980d-4bea-a57e-716c7cef18f9",
   "metadata": {},
   "source": [
    "### Heading"
   ]
  },
  {
   "cell_type": "markdown",
   "id": "58d29641-fdda-4524-a53b-618db790f43a",
   "metadata": {},
   "source": [
    "This is **bold** text"
   ]
  },
  {
   "cell_type": "code",
   "execution_count": 10,
   "id": "83924dc1-d4b3-48de-9028-86535d78279f",
   "metadata": {},
   "outputs": [
    {
     "name": "stdout",
     "output_type": "stream",
     "text": [
      "<class 'list'>\n",
      "<class 'int'>\n"
     ]
    }
   ],
   "source": [
    "lst1= [80, 90, 95, 87, 82]\n",
    "print(type(lst1))\n",
    "print(type(lst1[0]))\n",
    "\n"
   ]
  },
  {
   "cell_type": "code",
   "execution_count": 13,
   "id": "43b99e2a-22d4-4c41-83ba-58d1bf9d02ad",
   "metadata": {},
   "outputs": [
    {
     "name": "stdout",
     "output_type": "stream",
     "text": [
      "Average of the list = 86.8\n"
     ]
    }
   ],
   "source": [
    "#Python program to get average of a list\n",
    "def Average(lst):\n",
    "    return sum(lst) / len(lst)\n",
    "\n",
    "#Driver Code\n",
    "lst = [80, 90, 95, 87, 82]\n",
    "average = Average(lst)\n",
    "\n",
    "#Printing average of the list\n",
    "print(\"Average of the list =\", Average(lst))"
   ]
  },
  {
   "cell_type": "code",
   "execution_count": null,
   "id": "f0a136be-d77c-4300-b2b5-c8e63190565a",
   "metadata": {},
   "outputs": [],
   "source": []
  }
 ],
 "metadata": {
  "kernelspec": {
   "display_name": "Python 3 (ipykernel)",
   "language": "python",
   "name": "python3"
  },
  "language_info": {
   "codemirror_mode": {
    "name": "ipython",
    "version": 3
   },
   "file_extension": ".py",
   "mimetype": "text/x-python",
   "name": "python",
   "nbconvert_exporter": "python",
   "pygments_lexer": "ipython3",
   "version": "3.10.9"
  }
 },
 "nbformat": 4,
 "nbformat_minor": 5
}
